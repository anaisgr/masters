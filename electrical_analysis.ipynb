{
 "cells": [
  {
   "cell_type": "markdown",
   "metadata": {},
   "source": [
    "# Analysis of probe measurements"
   ]
  },
  {
   "cell_type": "markdown",
   "metadata": {
    "toc-hr-collapsed": true,
    "toc-nb-collapsed": true
   },
   "source": [
    "## Setting up Python"
   ]
  },
  {
   "cell_type": "markdown",
   "metadata": {},
   "source": [
    "Those Python libraries need to be imported before analysis"
   ]
  },
  {
   "cell_type": "code",
   "execution_count": 1,
   "metadata": {},
   "outputs": [],
   "source": [
    "import numpy as np\n",
    "import matplotlib.pyplot as plt\n",
    "import seaborn as sns\n",
    "import pandas as pd\n",
    "import statistics\n",
    "from ipywidgets import *"
   ]
  },
  {
   "cell_type": "markdown",
   "metadata": {},
   "source": [
    "## Importing the data"
   ]
  },
  {
   "cell_type": "markdown",
   "metadata": {},
   "source": [
    "The data files are saved as csv and imported in here"
   ]
  },
  {
   "cell_type": "code",
   "execution_count": 2,
   "metadata": {},
   "outputs": [],
   "source": [
    "hmds = pd.read_csv(\"Data/hmds_byloc.csv\",na_values=['NC']) #hmds-treated sample\n",
    "gl = pd.read_csv(\"Data/gl_byloc.csv\",na_values=['NC'])     #large gold sample\n",
    "gs = pd.read_csv(\"Data/gs_byloc.csv\",na_values=['NC'])      #small gold sample\n",
    "boot = pd.read_csv(\"Data/boot_byloc.csv\",na_values=['no','nan'])  #reference sample"
   ]
  },
  {
   "cell_type": "markdown",
   "metadata": {},
   "source": [
    "An imported table looks like this, with the location referring to the pair of electrode measured"
   ]
  },
  {
   "cell_type": "code",
   "execution_count": 3,
   "metadata": {},
   "outputs": [
    {
     "data": {
      "text/html": [
       "<div>\n",
       "<style scoped>\n",
       "    .dataframe tbody tr th:only-of-type {\n",
       "        vertical-align: middle;\n",
       "    }\n",
       "\n",
       "    .dataframe tbody tr th {\n",
       "        vertical-align: top;\n",
       "    }\n",
       "\n",
       "    .dataframe thead th {\n",
       "        text-align: right;\n",
       "    }\n",
       "</style>\n",
       "<table border=\"1\" class=\"dataframe\">\n",
       "  <thead>\n",
       "    <tr style=\"text-align: right;\">\n",
       "      <th></th>\n",
       "      <th>Location</th>\n",
       "      <th>before</th>\n",
       "      <th>200</th>\n",
       "      <th>300</th>\n",
       "      <th>400</th>\n",
       "      <th>500</th>\n",
       "    </tr>\n",
       "  </thead>\n",
       "  <tbody>\n",
       "    <tr>\n",
       "      <th>0</th>\n",
       "      <td>A1-B1</td>\n",
       "      <td>7.68</td>\n",
       "      <td>30.00</td>\n",
       "      <td>27.1</td>\n",
       "      <td>NaN</td>\n",
       "      <td>NaN</td>\n",
       "    </tr>\n",
       "    <tr>\n",
       "      <th>1</th>\n",
       "      <td>A1-A2</td>\n",
       "      <td>5.65</td>\n",
       "      <td>11.68</td>\n",
       "      <td>10.2</td>\n",
       "      <td>11.0</td>\n",
       "      <td>NaN</td>\n",
       "    </tr>\n",
       "    <tr>\n",
       "      <th>2</th>\n",
       "      <td>A1-B2</td>\n",
       "      <td>2.30</td>\n",
       "      <td>18.97</td>\n",
       "      <td>16.9</td>\n",
       "      <td>NaN</td>\n",
       "      <td>NaN</td>\n",
       "    </tr>\n",
       "    <tr>\n",
       "      <th>3</th>\n",
       "      <td>B1-B2</td>\n",
       "      <td>5.21</td>\n",
       "      <td>11.03</td>\n",
       "      <td>10.5</td>\n",
       "      <td>NaN</td>\n",
       "      <td>NaN</td>\n",
       "    </tr>\n",
       "    <tr>\n",
       "      <th>4</th>\n",
       "      <td>A2-B2</td>\n",
       "      <td>5.04</td>\n",
       "      <td>19.80</td>\n",
       "      <td>17.4</td>\n",
       "      <td>NaN</td>\n",
       "      <td>NaN</td>\n",
       "    </tr>\n",
       "    <tr>\n",
       "      <th>5</th>\n",
       "      <td>A2-B1</td>\n",
       "      <td>11.63</td>\n",
       "      <td>31.00</td>\n",
       "      <td>27.5</td>\n",
       "      <td>NaN</td>\n",
       "      <td>NaN</td>\n",
       "    </tr>\n",
       "  </tbody>\n",
       "</table>\n",
       "</div>"
      ],
      "text/plain": [
       "  Location  before    200   300   400  500\n",
       "0    A1-B1    7.68  30.00  27.1   NaN  NaN\n",
       "1    A1-A2    5.65  11.68  10.2  11.0  NaN\n",
       "2    A1-B2    2.30  18.97  16.9   NaN  NaN\n",
       "3    B1-B2    5.21  11.03  10.5   NaN  NaN\n",
       "4    A2-B2    5.04  19.80  17.4   NaN  NaN\n",
       "5    A2-B1   11.63  31.00  27.5   NaN  NaN"
      ]
     },
     "execution_count": 3,
     "metadata": {},
     "output_type": "execute_result"
    }
   ],
   "source": [
    "boot"
   ]
  },
  {
   "cell_type": "markdown",
   "metadata": {},
   "source": [
    "Each of the sample have their own size. Hmds was a 3x4, gl a 3x3, gs a 2x2, and boot a 2x2. The diagrams of the samples are shown below."
   ]
  },
  {
   "cell_type": "markdown",
   "metadata": {},
   "source": [
    "%%html\n",
    "<img src=\"Figures/hmds.png\" width=\"150\" height=\"150\" align=\"center\"/>\n",
    "<img src=\"Figures/gl.png\" width=\"150\" height=\"150\" align=\"center\"/>\n",
    "<img src=\"Figures/gs.png\" width=\"150\" height=\"150\" align=\"center\"/>\n",
    "<img src=\"Figures/gs.png\" width=\"150\" height=\"150\" align=\"center\"/>"
   ]
  },
  {
   "cell_type": "markdown",
   "metadata": {},
   "source": [
    "For analysis the sample data is linked to the shape of the samples by using a Python dictionary"
   ]
  },
  {
   "cell_type": "code",
   "execution_count": 4,
   "metadata": {},
   "outputs": [],
   "source": [
    "exps = {'hmds': (hmds, 'D', 3), 'gl': (gl, 'C', 3), 'gs': (gs, 'B', 2), 'boot': (boot, 'B', 2)}"
   ]
  },
  {
   "cell_type": "markdown",
   "metadata": {},
   "source": [
    "## Useful Python functions for analysis"
   ]
  },
  {
   "cell_type": "markdown",
   "metadata": {},
   "source": [
    "### Line extractor\n",
    "First thing to do is a function that returns the temperature as x and the resistance as y when given the experiment and the location"
   ]
  },
  {
   "cell_type": "code",
   "execution_count": 5,
   "metadata": {},
   "outputs": [],
   "source": [
    "def get_temperature_resistance_by_loc(exp, loc): #inputs are the pandas dataframe and a string with the location\n",
    "    x = []\n",
    "    y = []\n",
    "    df = exp\n",
    "    initial_row = '200'\n",
    "    row = df[df[\"Location\"] == loc]\n",
    "    if row.empty:\n",
    "        return x,y\n",
    "    if not row[initial_row].isnull().item():\n",
    "        x.append(initial_row)\n",
    "        y.append(float(row[initial_row].item()))\n",
    "    for i in df.columns[3:]:\n",
    "        if not row[initial_row].isnull().item():\n",
    "            x.append(i)\n",
    "            y.append(float(row[i].item()))\n",
    "    return x,y"
   ]
  },
  {
   "cell_type": "markdown",
   "metadata": {},
   "source": [
    "These can be plotted directly"
   ]
  },
  {
   "cell_type": "code",
   "execution_count": 25,
   "metadata": {},
   "outputs": [
    {
     "data": {
      "application/vnd.jupyter.widget-view+json": {
       "model_id": "a0978976401a49aeb0f2fc3684d67216",
       "version_major": 2,
       "version_minor": 0
      },
      "text/plain": [
       "HBox(children=(Dropdown(description='Sample', options=(('HMDS-treated', 'hmds'), ('Gold large', 'gl'), ('Gold …"
      ]
     },
     "metadata": {},
     "output_type": "display_data"
    },
    {
     "data": {
      "application/vnd.jupyter.widget-view+json": {
       "model_id": "d81c5130708049aca2771968545b24a2",
       "version_major": 2,
       "version_minor": 0
      },
      "text/plain": [
       "Canvas(toolbar=Toolbar(toolitems=[('Home', 'Reset original view', 'home', 'home'), ('Back', 'Back to previous …"
      ]
     },
     "metadata": {},
     "output_type": "display_data"
    }
   ],
   "source": [
    "%matplotlib widget\n",
    "\n",
    "# making the input widgets\n",
    "sample_list = [('HMDS-treated','hmds'), ('Gold large','gl'), ('Gold small','gs'), ('Reference','boot')]\n",
    "sample_text = widgets.Dropdown(description=\"Sample\", options=sample_list, width=100)\n",
    "location_list = list(hmds['Location'])\n",
    "location_text = widgets.Dropdown(description=\"Location\", options=location_list, width=100)\n",
    "log_check = widgets.Checkbox(value=False, description='Log scale')\n",
    "\n",
    "#function to update possible locations in dropdown from samples dropdown\n",
    "def update_loc(_):\n",
    "    sample = exps[sample_text.value][0]\n",
    "    location_text.options = list(sample['Location'])\n",
    "sample_text.observe(update_loc)\n",
    "\n",
    "# display all\n",
    "text_container = widgets.HBox([sample_text, location_text, log_check])\n",
    "display(text_container)\n",
    "\n",
    "#function to receive location input\n",
    "def on_loc_selected(_):\n",
    "    sample = exps[sample_text.value][0]\n",
    "    loc = location_text.value\n",
    "    log = log_check.value\n",
    "    set_plot(sample, loc, log)\n",
    "location_text.observe(on_loc_selected)\n",
    "log_check.observe(on_loc_selected)\n",
    "\n",
    "#function to update plot\n",
    "def set_plot(sample=hmds, loc='A1-B1', log=False):\n",
    "    x,y = get_temperature_resistance_by_loc(sample,loc)\n",
    "    ax.clear()\n",
    "    ax.set_ylabel(\"Resistance (kΩ)\")\n",
    "    ax.set_xlabel(\"Annealing temperature (°C)\")\n",
    "    ax.plot(x,y, label=loc)\n",
    "    ax.legend()\n",
    "    if log:\n",
    "        ax.set_yscale('log')\n",
    "    fig.canvas.draw()\n",
    "\n",
    "fig = plt.figure()\n",
    "ax = fig.add_subplot(111)\n",
    "set_plot()"
   ]
  },
  {
   "cell_type": "markdown",
   "metadata": {},
   "source": [
    "### Device extractor\n",
    "As my analysis is focused on the statistics I only look at the data for close pairs of devices (~same distance apart for all samples). This can be done with a function that returns the list of all possible locations for each sample."
   ]
  },
  {
   "cell_type": "code",
   "execution_count": 7,
   "metadata": {},
   "outputs": [],
   "source": [
    "def get_devices(lmax, nmax):\n",
    "    devices = []\n",
    "    ls = ['A', 'B', 'C', 'D']\n",
    "    for letter in ls[0:ls.index(lmax)+1]:\n",
    "        for number in range(1, nmax):\n",
    "            device = f\"{letter}{number}-{letter}{number+1}\"\n",
    "            devices.append(device)\n",
    "    for number in range(1, nmax+1):\n",
    "        for i,letter in enumerate(ls[0:ls.index(lmax)]):\n",
    "            device = f\"{letter}{number}-{ls[i+1]}{number}\"\n",
    "            devices.append(device)\n",
    "    return devices"
   ]
  },
  {
   "cell_type": "markdown",
   "metadata": {},
   "source": [
    "For example, for the gold sample, the length goes to letter 'C', and width to number 3"
   ]
  },
  {
   "cell_type": "code",
   "execution_count": 8,
   "metadata": {},
   "outputs": [
    {
     "data": {
      "text/plain": [
       "['A1-A2',\n",
       " 'A2-A3',\n",
       " 'B1-B2',\n",
       " 'B2-B3',\n",
       " 'C1-C2',\n",
       " 'C2-C3',\n",
       " 'A1-B1',\n",
       " 'B1-C1',\n",
       " 'A2-B2',\n",
       " 'B2-C2',\n",
       " 'A3-B3',\n",
       " 'B3-C3']"
      ]
     },
     "execution_count": 8,
     "metadata": {},
     "output_type": "execute_result"
    }
   ],
   "source": [
    "get_devices('C',3)"
   ]
  },
  {
   "cell_type": "markdown",
   "metadata": {},
   "source": [
    "### Resistance extractor\n",
    "Using the function to extract the devices, we can now get the resistances for each of these locations for a given sample and at a given temperature"
   ]
  },
  {
   "cell_type": "code",
   "execution_count": 9,
   "metadata": {},
   "outputs": [],
   "source": [
    "def get_resistances(exp, temp):\n",
    "    rlist = []\n",
    "    devices = get_devices(exp[1], exp[2])\n",
    "    for device in devices:\n",
    "        r = exp[0][exp[0][\"Location\"] == device][str(temp)]\n",
    "        try:\n",
    "            rlist.append(float(r))\n",
    "        except:\n",
    "            rlist.append('NA')\n",
    "            pass\n",
    "    return rlist"
   ]
  },
  {
   "cell_type": "markdown",
   "metadata": {},
   "source": [
    "For example the small gold sample at 500 °C"
   ]
  },
  {
   "cell_type": "code",
   "execution_count": 10,
   "metadata": {},
   "outputs": [
    {
     "data": {
      "text/plain": [
       "[1.51, 4.52, 6.68, 4.56]"
      ]
     },
     "execution_count": 10,
     "metadata": {},
     "output_type": "execute_result"
    }
   ],
   "source": [
    "get_resistances(exps['gs'], 500)"
   ]
  },
  {
   "cell_type": "markdown",
   "metadata": {},
   "source": [
    "### Percent increase extractor\n",
    "Another thing we might want to calculate is the percent increase in each of the devices between two temperatures."
   ]
  },
  {
   "cell_type": "code",
   "execution_count": 26,
   "metadata": {},
   "outputs": [],
   "source": [
    "def get_percent_increase(exp, t1, t2):\n",
    "    r1s = get_resistances(exp, t1)\n",
    "    r2s = get_resistances(exp, t2)\n",
    "    changes = [(r2-r1)/r1 for (r1, r2) in zip(r1s, r2s)]\n",
    "    return changes"
   ]
  },
  {
   "cell_type": "markdown",
   "metadata": {},
   "source": [
    "For example the small gold sample between 300 °C and 500 °C"
   ]
  },
  {
   "cell_type": "code",
   "execution_count": 27,
   "metadata": {},
   "outputs": [
    {
     "data": {
      "text/plain": [
       "[-0.2705314009661835,\n",
       " 0.4169278996865203,\n",
       " 0.4746136865342162,\n",
       " 0.5099337748344369]"
      ]
     },
     "execution_count": 27,
     "metadata": {},
     "output_type": "execute_result"
    }
   ],
   "source": [
    "get_percent_increase(exps['gs'],300,500)"
   ]
  },
  {
   "cell_type": "markdown",
   "metadata": {},
   "source": [
    "## The plots"
   ]
  },
  {
   "cell_type": "markdown",
   "metadata": {},
   "source": [
    "Starting with the plot used in the presentation as I think it gives the best overview"
   ]
  },
  {
   "cell_type": "code",
   "execution_count": 28,
   "metadata": {},
   "outputs": [
    {
     "data": {
      "application/vnd.jupyter.widget-view+json": {
       "model_id": "3e7a695456da44758d28162de1af66e2",
       "version_major": 2,
       "version_minor": 0
      },
      "text/plain": [
       "Canvas(toolbar=Toolbar(toolitems=[('Home', 'Reset original view', 'home', 'home'), ('Back', 'Back to previous …"
      ]
     },
     "metadata": {},
     "output_type": "display_data"
    },
    {
     "data": {
      "text/plain": [
       "Text(-0.05, 0.2, 'Increase in resistance (%)')"
      ]
     },
     "execution_count": 28,
     "metadata": {},
     "output_type": "execute_result"
    }
   ],
   "source": [
    "X = [300, 400, 500, 600, 700]\n",
    "samples = ['hmds', 'gs', 'gl']\n",
    "Y = {}\n",
    "top_y = 85\n",
    "for sample in samples:\n",
    "    Y[sample] = {'t':[[],[]], 'mean':[[],[]], 'dev':[[], []], 'min':[[], []], 'max':[[], []]}\n",
    "for t in X:\n",
    "    for sample in samples:\n",
    "        change_list = get_percent_increase(exps[sample], 300, t)\n",
    "        y = statistics.mean(change_list)\n",
    "        if y*100 < top_y: i = 0\n",
    "        else: i = 1\n",
    "        Y[sample]['t'][i].append(t)\n",
    "        Y[sample]['mean'][i].append(y*100)\n",
    "        Y[sample]['dev'][i].append(statistics.pstdev(change_list)*100)\n",
    "        Y[sample]['min'][i].append(abs(y-np.percentile(change_list,20))*100)\n",
    "        Y[sample]['max'][i].append(abs(np.percentile(change_list,80)-y)*100)\n",
    "#for sample in samples:\n",
    "#    for attr in list(Y[sample].keys()):  \n",
    "#        Y[sample][attr][0].append(Y[sample][attr][1][0])\n",
    "#        if sample != 'gs':\n",
    "#            Y[sample][attr][1] = [Y[sample][attr][0][-2]] + Y[sample][attr][1]\n",
    "    \n",
    "# Defining the figure and figure size\n",
    "#fig, ax = plt.subplots(figsize=(12, 8))\n",
    "f, (ax1, ax2) = plt.subplots(2, 1, sharex=True, figsize=(9,7), dpi=60)\n",
    "top_y = 85\n",
    "\n",
    "# Plotting the error bars\n",
    "def length(y_sample):\n",
    "    return len([y for y in y_sample if y<top_y])\n",
    "for i, ax in enumerate([ax2, ax1]):\n",
    "    cut = lambda pts:{'hmds':[pts[:length(Y_hmds)+1], pts[length(Y_hmds)-1:]], \n",
    "                      'gs':[pts[:length(Y_gs)+1], pts[length(Y_gs):]],\n",
    "                      'gl':[pts[:length(Y_gl)+1], pts[length(Y_gl):]]}\n",
    "    ax.errorbar([x-9 for x in Y['hmds']['t'][i]], y=Y['hmds']['mean'][i], \n",
    "                yerr=[Y['hmds']['min'][i], Y['hmds']['max'][i]], \n",
    "                fmt='o-', ecolor='dimgrey', color='royalblue', capsize=5, \n",
    "                label='HMDS               (batch 1)', markersize=15, lw=2)\n",
    "    ax.errorbar([x+9 for x in Y['gl']['t'][i]], y=Y['gl']['mean'][i], \n",
    "                yerr=[Y['gl']['min'][i], Y['gl']['max'][i]], \n",
    "                fmt='^-', ecolor='dimgrey', color='orangered', capsize=5, \n",
    "                label='2 nm gold        (batch 1)', markersize=15, lw=2)\n",
    "    ax.errorbar([x for x in Y['gs']['t'][i]], Y['gs']['mean'][i], \n",
    "                yerr=[Y['gs']['min'][i], Y['gs']['max'][i]], \n",
    "                fmt='s-', ecolor='dimgrey', color='firebrick', capsize=5, \n",
    "                label='2 nm gold        (batch 2)', markersize=15, lw=2)\n",
    "\n",
    "#Zoom in / limit views\n",
    "ax1.set_ylim(top_y-10, 20000)  # outliers only\n",
    "ax1.set_yscale('log')\n",
    "ax1.set_yticks([200, 500, 1000, 2000, 5000, 10000])\n",
    "ax1.set_yticklabels([200, 500, 1000, 2000, 5000, 10000])\n",
    "ax2.set_ylim(-50, top_y+10)  # most of the data\n",
    "\n",
    "#add the lines\n",
    "ax1.plot([Y['hmds']['t'][1][0]-9, 630], [Y['hmds']['mean'][1][0], 85], '-', color='royalblue', lw=2)\n",
    "ax2.plot([Y['hmds']['t'][0][-1]-9, 610], [Y['hmds']['mean'][0][-1], 85], '-', color='royalblue', lw=2)\n",
    "ax1.plot([Y['gl']['t'][1][0]+9, 489], [Y['gl']['mean'][1][0], 85], '-', color='orangered', lw=2)\n",
    "ax2.plot([Y['gl']['t'][0][-1]+9, 479], [Y['gl']['mean'][0][-1], 85], '-', color='orangered', lw=2)\n",
    "ax1.plot([Y['gs']['t'][1][0], 572], [Y['gs']['mean'][1][0], 85], '-', color='firebrick', lw=2)\n",
    "ax2.plot([Y['gs']['t'][0][-1], 555], [Y['gs']['mean'][0][-1], 85], '-', color='firebrick', lw=2)\n",
    "\n",
    "# hide the spines between ax and ax2\n",
    "ax1.spines['bottom'].set_visible(False)\n",
    "ax2.spines['top'].set_visible(False)\n",
    "ax1.xaxis.tick_top()\n",
    "ax1.tick_params(labeltop='off')  # don't put tick labels at the top\n",
    "ax2.xaxis.tick_bottom()\n",
    "f.tight_layout()\n",
    "\n",
    "d = .02  # how big to make the diagonal lines in axes coordinates\n",
    "# arguments to pass to plot, just so we don't keep repeating them\n",
    "kwargs = dict(transform=ax1.transAxes, color='k', clip_on=False)\n",
    "ax1.plot((-d, +d), (-d, +d), **kwargs)        # top-left diagonal\n",
    "ax1.plot((1 - d, 1 + d), (-d, +d), **kwargs)  # top-right diagonal\n",
    "\n",
    "kwargs.update(transform=ax2.transAxes)  # switch to the bottom axes\n",
    "ax2.plot((-d, +d), (1 - d, 1 + d), **kwargs)  # bottom-left diagonal\n",
    "ax2.plot((1 - d, 1 + d), (1 - d, 1 + d), **kwargs)  # bottom-right diagonal\n",
    "    \n",
    "#Adding reference information\n",
    "bbox = dict(boxstyle=\"round, pad=0.3\", fc=\"lemonchiffon\", ec=\"gray\", lw=1)\n",
    "arrowprops = dict(\n",
    "    arrowstyle = \"->\")#,\n",
    "    #connectionstyle = \"angle,angleA=-10,angleB=-80,rad=-20\")\n",
    "ax2.annotate('Reference sample\\nno longer conductive', xy=(400, -50), xytext=(550, -20),\n",
    "           bbox=bbox, arrowprops=arrowprops, fontsize=17)\n",
    "\n",
    "# Adding plotting parameters\n",
    "#ax.set_yscale('log')\n",
    "ax2.set_xlabel('Annealing temperature (°C)', fontsize=19, labelpad=2)\n",
    "#ax1.set_ylabel('Increase in resistance (%)', fontsize=19)\n",
    "ax1.yaxis.set_label_position('left') \n",
    "#ax.set_ylim(-40, 300)\n",
    "ax1.legend(loc='best', frameon=True, fontsize=17)\n",
    "ax2.tick_params(labelsize=17)\n",
    "ax1.tick_params(labelsize=17)\n",
    "f.text(-0.05, 0.2, 'Increase in resistance (%)', fontsize=19, rotation='vertical')"
   ]
  },
  {
   "cell_type": "code",
   "execution_count": null,
   "metadata": {},
   "outputs": [],
   "source": []
  }
 ],
 "metadata": {
  "kernelspec": {
   "display_name": "Python 3",
   "language": "python",
   "name": "python3"
  },
  "language_info": {
   "codemirror_mode": {
    "name": "ipython",
    "version": 3
   },
   "file_extension": ".py",
   "mimetype": "text/x-python",
   "name": "python",
   "nbconvert_exporter": "python",
   "pygments_lexer": "ipython3",
   "version": "3.6.9"
  }
 },
 "nbformat": 4,
 "nbformat_minor": 4
}
