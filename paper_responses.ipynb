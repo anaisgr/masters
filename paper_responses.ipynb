{
 "cells": [
  {
   "cell_type": "code",
   "execution_count": 1,
   "id": "63487626-cc7c-4550-a486-2ebaeef7afd5",
   "metadata": {},
   "outputs": [],
   "source": [
    "import numpy as np\n",
    "import matplotlib.pyplot as plt\n",
    "import pandas as pd\n",
    "import sys\n",
    "from scipy.optimize import curve_fit, minimize\n",
    "from scipy.signal import find_peaks, peak_widths\n",
    "from scipy import sparse\n",
    "from scipy.sparse.linalg import spsolve\n",
    "sys.path.append('scripts')\n",
    "from raman_plot import Spectrum\n",
    "from peak_fitting import *\n",
    "from sorted_for_stats import hmds, gl, boot, gs\n",
    "from statistics import mean, stdev, median"
   ]
  },
  {
   "cell_type": "code",
   "execution_count": 2,
   "id": "5477dd69-6c4f-40ac-bd89-11b78e019a6e",
   "metadata": {},
   "outputs": [],
   "source": [
    "def remove_base_1(sample, p=0.001, lam=100000000):\n",
    "    z = baseline_als(sample.Intensity1, lam, p)\n",
    "    return sample.Intensity1 - z\n",
    "    #plt.plot(sample.Wavenumber1, sample.Intensity1, sample.Wavenumber1, z)\n",
    "\n",
    "def remove_base_2(sample, p=0.001, lam=100000000):\n",
    "    z = baseline_als(sample.Intensity2, lam, p)\n",
    "    return sample.Intensity2 - z\n",
    "    \n",
    "def fit_D_peak(x,y):\n",
    "    guess = [1350, 10000, 20]\n",
    "    low, high = 1300, 1400\n",
    "    x_new = x[x > low][x < high]\n",
    "    y_new = y.iloc[x_new.index[0]:x_new.index[-1]+1]\n",
    "    popt, pcov = curve_fit(func(1), x_new, y_new, guess, maxfev=10000, bounds=(0, 200000))\n",
    "    return popt\n",
    "\n",
    "def fit_G_Dprime_peak(x,y):\n",
    "    guess = [1590, 10000, 20, 1630, 10000, 20]\n",
    "    bounds = ([1580, 100, 1, 1610, 100, 1], [1600, 200000, 100, 1630, 200000, 100])\n",
    "    low, high = 1540, 1650\n",
    "    x_new = x[x > low][x < high]\n",
    "    y_new = y.iloc[x_new.index[0]:x_new.index[-1]+1]\n",
    "    popt, pcov = curve_fit(func(2), x_new, y_new, guess, maxfev=10000, bounds=bounds)\n",
    "    peak1, peak2 = popt[:3], popt[3:]\n",
    "    return peak1, peak2\n",
    "\n",
    "def fit_2D_peaks(x,y): #This function is to fit 2 peaks inside an asymmetric peak\n",
    "    guess = [2700, 10000, 20, 2700, 10000, 20]\n",
    "    bounds = ([2600, 100, 1, 2600, 100, 1],\n",
    "              [2800, 200000, 100, 2800, 200000, 100])\n",
    "    low, high = 2600, 2800\n",
    "    x_new = x[x > low][x < high]\n",
    "    y_new = y.iloc[x_new.index[0]:x_new.index[-1]+1]\n",
    "    popt, pcov = curve_fit(func(2), x_new, y_new, guess, maxfev=10000, bounds=bounds)\n",
    "    peak1, peak2 = popt[:3], popt[3:]\n",
    "    return peak1, peak2\n",
    "\n",
    "def fit_2D_peak(x,y):\n",
    "    guess = [2700, 10000, 20]\n",
    "    low, high = 2600, 2800\n",
    "    x_new = x[x > low][x < high]\n",
    "    y_new = y.iloc[x_new.index[0]:x_new.index[-1]+1]\n",
    "    popt, pcov = curve_fit(func(1), x_new, y_new, guess, maxfev=10000, bounds=(0, 200000))\n",
    "    return popt"
   ]
  },
  {
   "cell_type": "markdown",
   "id": "12031d98-fd2c-4bf6-8016-500f61079ddc",
   "metadata": {},
   "source": [
    "# Part 1: Looking at D' peak in hmds"
   ]
  },
  {
   "cell_type": "code",
   "execution_count": 3,
   "id": "562ea13c-a8f9-4c98-a995-39490181279a",
   "metadata": {},
   "outputs": [],
   "source": [
    "def get_sample_peaks(sample):\n",
    "    ts = sample[\"spectra\"].keys()\n",
    "    sample[\"peaks\"] = dict()\n",
    "    for t in ts:\n",
    "        sample_at_t = sample['spectra'][t]\n",
    "        sample[\"peaks\"][t] = dict()\n",
    "        for i in range(len(sample_at_t)):\n",
    "            spectrum = sample_at_t[i]\n",
    "            # Remove the baseline\n",
    "            x = spectrum.Wavenumber1\n",
    "            new_y = remove_base_1(spectrum)\n",
    "            # Find D peak\n",
    "            d_peak = fit_D_peak(x, new_y)\n",
    "            # Find G and D' peaks\n",
    "            g_peak, dprime_peak = fit_G_Dprime_peak(x, new_y)\n",
    "            sample['peaks'][t][i] = {\"d_peak\":d_peak, \"g_peak\":g_peak, \"dprime_peak\":dprime_peak}\n",
    "\n",
    "get_sample_peaks(hmds)\n",
    "get_sample_peaks(boot)"
   ]
  },
  {
   "cell_type": "code",
   "execution_count": 4,
   "id": "87423d0a-a5bf-4ce2-9d94-b6915b6e4b8c",
   "metadata": {},
   "outputs": [
    {
     "data": {
      "text/plain": [
       "Text(0.5, 0, 'Last temperature of annealing (°C)')"
      ]
     },
     "execution_count": 4,
     "metadata": {},
     "output_type": "execute_result"
    },
    {
     "data": {
      "image/png": "[encoded data removed]",
      "text/plain": [
       "<Figure size 432x288 with 1 Axes>"
      ]
     },
     "metadata": {
      "needs_background": "light"
     },
     "output_type": "display_data"
    }
   ],
   "source": [
    "#sample to plot\n",
    "sample = hmds\n",
    "ts = sample[\"spectra\"].keys()\n",
    "d_gs = []\n",
    "d_dprimes = []\n",
    "dprime_gs = []\n",
    "d_gs_error = []\n",
    "d_dprimes_error = []\n",
    "dprime_gs_error = []\n",
    "for t in ts:\n",
    "    d_peaks = [sample[\"peaks\"][t][i]['d_peak'][1] for i in range(len(sample[\"peaks\"][t]))]\n",
    "    g_peaks = [sample[\"peaks\"][t][i]['g_peak'][1] for i in range(len(sample[\"peaks\"][t]))]\n",
    "    dprime_peaks = [sample[\"peaks\"][t][i]['dprime_peak'][1] for i in range(len(sample[\"peaks\"][t]))]\n",
    "    d_dprime = [d1/d2 for d1,d2 in zip(d_peaks, dprime_peaks)]\n",
    "    d_g = [d1/d2 for d1,d2 in zip(d_peaks, g_peaks)]\n",
    "    dprime_g = [d1/d2 for d1,d2 in zip(dprime_peaks, g_peaks)]\n",
    "    d_dprimes.append(median(d_dprime))\n",
    "    d_gs.append(median(d_g))\n",
    "    dprime_gs.append(median(dprime_g))\n",
    "    d_dprimes_error.append(stdev(d_dprime))\n",
    "    d_gs_error.append(stdev(d_g))\n",
    "    dprime_gs_error.append(stdev(dprime_g))\n",
    "    \n",
    "plt.errorbar(ts, d_dprimes, d_dprimes_error, fmt=\"-o\", label=\"I(D)/I(D')\", capsize=5)\n",
    "plt.errorbar(ts, d_gs, d_gs_error, fmt=\"-o\", label=\"I(D)/I(G)\", capsize=5)\n",
    "plt.errorbar(ts, dprime_gs, dprime_gs_error, fmt=\"-o\", label=\"I(D')/I(G)\", capsize=5)\n",
    "plt.legend()\n",
    "plt.xlabel(\"Last temperature of annealing (°C)\")\n",
    "#plt.ylim([0, 2])"
   ]
  },
  {
   "cell_type": "code",
   "execution_count": 5,
   "id": "49c30165-5445-4588-a15f-889ccd0fa19f",
   "metadata": {},
   "outputs": [
    {
     "data": {
      "text/plain": [
       "<matplotlib.legend.Legend at 0x7f95f95985e0>"
      ]
     },
     "execution_count": 5,
     "metadata": {},
     "output_type": "execute_result"
    },
    {
     "data": {
      "image/png": "[encoded data removed]",
      "text/plain": [
       "<Figure size 432x288 with 1 Axes>"
      ]
     },
     "metadata": {
      "needs_background": "light"
     },
     "output_type": "display_data"
    }
   ],
   "source": [
    "#I(D)/I(G) vs #I(D')/I(G)\n",
    "ts = boot[\"spectra\"].keys()\n",
    "for sample in [hmds, boot]:\n",
    "    if sample[\"name\"] == \"hmds\":\n",
    "        colors = [\"lightsteelblue\", \"cornflowerblue\",\"royalblue\"]\n",
    "    else:\n",
    "        colors = [\"papayawhip\", \"moccasin\", \"orange\"]\n",
    "    for i, t in enumerate(ts):\n",
    "        d_peaks = [sample[\"peaks\"][t][i]['d_peak'][1] for i in range(len(sample[\"peaks\"][t]))]\n",
    "        g_peaks = [sample[\"peaks\"][t][i]['g_peak'][1] for i in range(len(sample[\"peaks\"][t]))]\n",
    "        dprime_peaks = [sample[\"peaks\"][t][i]['dprime_peak'][1] for i in range(len(sample[\"peaks\"][t]))]\n",
    "        d_dprime = [d1/d2 for d1,d2 in zip(d_peaks, dprime_peaks)]\n",
    "        d_g = [d1/d2 for d1,d2 in zip(d_peaks, g_peaks)]\n",
    "        dprime_g = [d1/d2 for d1,d2 in zip(dprime_peaks, g_peaks)]\n",
    "        plt.scatter(dprime_g, d_g, color=colors[i], label=f\"{sample['name']} {t} °C\")\n",
    "x = np.linspace(0.02, 1, 30)\n",
    "plt.plot(x, 13*x, color=\"thistle\", label=\"sp3 (13)\")\n",
    "plt.plot(x, 7*x, color=\"plum\", label=\"vacancy (7)\")\n",
    "plt.plot(x, 3.5*x, color=\"violet\", label=\"boundary (3.5)\")\n",
    "plt.ylabel(\"I(D)/I(G)\")\n",
    "plt.xlabel(\"I(D')/I(G)\")\n",
    "plt.yscale('log')\n",
    "plt.xscale('log')\n",
    "plt.legend(bbox_to_anchor=(1, 1))"
   ]
  },
  {
   "cell_type": "markdown",
   "id": "1dafe12d-3b2e-46ae-a373-b32303b65e7c",
   "metadata": {},
   "source": [
    "# Part 2: Looking at splitting of 2d peak in gold sample"
   ]
  },
  {
   "cell_type": "code",
   "execution_count": null,
   "id": "3a713888-794a-41e3-8372-47eb05680d83",
   "metadata": {},
   "outputs": [],
   "source": [
    "sample = gs\n",
    "sample[\"peaks\"] = dict()\n",
    "for t in [500, 600, 700]:\n",
    "    sample_at_t = sample['spectra'][t]\n",
    "    sample[\"peaks\"][t] = dict()\n",
    "    for i in range(len(sample_at_t)):\n",
    "        spectrum = sample_at_t[i]\n",
    "        # Remove the baseline\n",
    "        x1, x2 = spectrum.Wavenumber1, spectrum.Wavenumber2\n",
    "        new_y_1, new_y_2 = remove_base_1(spectrum), remove_base_2(spectrum)\n",
    "        # Find D peak\n",
    "        d_peak = fit_D_peak(x1, new_y_1)\n",
    "        # Find G and D' peaks\n",
    "        g_peak, dprime_peak = fit_G_Dprime_peak(x1, new_y_1)\n",
    "        # Find 2D peak\n",
    "        d2_peak = fit_2D_peak(x2, new_y_2)\n",
    "        # Find 2D peaks\n",
    "        d2_peak1, d2_peak2 = fit_2D_peaks(x2, new_y_2)\n",
    "        sample['peaks'][t][i] = {\"d_peak\":d_peak, \"g_peak\":g_peak, \"dprime_peak\":dprime_peak, \n",
    "                                 \"2d_peak\":d2_peak, \"2d_peak1\":d2_peak1, \"2d_peak2\":d2_peak2}"
   ]
  },
  {
   "cell_type": "code",
   "execution_count": null,
   "id": "6b4ae889-88dd-4d8e-8f25-a22a7f911bdf",
   "metadata": {},
   "outputs": [],
   "source": [
    "strain_shift = np.poly1d([2.1866773,-782.30125634])\n",
    "p_doping_shift = np.poly1d([6.96659036e-01,1.57483421e+03])\n",
    "X = np.linspace(1580, 1597, 100)\n",
    "plt.plot(X, strain_shift(X), 'k--', label=\"strain (Lee, J.E. et al)\")\n",
    "plt.plot(X, p_doping_shift(X), 'r--', label=\"p-doping (Lee, J.E. et al)\")\n",
    "for t in [500, 600, 700]:\n",
    "    d_peaks = [sample[\"peaks\"][t][i]['d_peak'][0] for i in range(len(sample[\"peaks\"][t]))]\n",
    "    g_peaks = [sample[\"peaks\"][t][i]['g_peak'][0] for i in range(len(sample[\"peaks\"][t]))]\n",
    "    d2_peaks = [sample[\"peaks\"][t][i]['2d_peak'][0] for i in range(len(sample[\"peaks\"][t]))]\n",
    "    plt.scatter(g_peaks, d2_peaks, label=f\"{t} °C\")\n",
    "plt.legend()\n",
    "plt.ylabel(r'2D peak position (cm$^{-1}$)')\n",
    "plt.xlabel(r'G peak position (cm$^{-1}$)')"
   ]
  },
  {
   "cell_type": "markdown",
   "id": "497e58af-d052-4ec8-acd6-137956028e58",
   "metadata": {},
   "source": [
    "# Extras\n",
    "\n",
    "Plots of the Lorentzian peak to check functions"
   ]
  },
  {
   "cell_type": "code",
   "execution_count": null,
   "id": "550eedf0-2f3f-4091-9748-cdce6a0a4a34",
   "metadata": {},
   "outputs": [],
   "source": [
    "def fit_d_peak_view(x, y):\n",
    "    guess = [1340, 10000, 20]\n",
    "    low, high = 1300, 1400\n",
    "    n = 1\n",
    "    x_new = x[x > low][x < high]\n",
    "    y_new = y.iloc[x_new.index[0]:x_new.index[-1]+1]\n",
    "    popt, pcov = curve_fit(func(n), x_new, y_new, guess, maxfev=10000, bounds=(0, 200000))\n",
    "    print(popt)\n",
    "\n",
    "    fig = plt.figure(figsize=(12,12))\n",
    "    ax = plt.subplot(211)\n",
    "    ax.plot(x, y)\n",
    "    ax.plot(x,func(n)(x,*popt))\n",
    "\n",
    "    for i in range(1,n+1):\n",
    "        peak = popt[3*i-3:3*i]\n",
    "        print(peak)\n",
    "        ax.plot(x,lorentzian(x,*peak))\n",
    "        \n",
    "def fit_g_peak_view(x, y):\n",
    "    guess = [1590, 10000, 20, 1630, 10000, 20]\n",
    "    bounds = ([1580, 100, 1, 1610, 100, 1], [1600, 200000, 100, 1630, 200000, 100])\n",
    "    low, high = 1540, 1650\n",
    "    n = 2\n",
    "    x_new = x[x > low][x < high]\n",
    "    y_new = y.iloc[x_new.index[0]:x_new.index[-1]+1]\n",
    "    popt, pcov = curve_fit(func(n), x_new, y_new, guess, maxfev=10000, bounds=bounds)\n",
    "    print(popt)\n",
    "\n",
    "    fig = plt.figure(figsize=(12,12))\n",
    "    ax = plt.subplot(211)\n",
    "    ax.plot(x, y)\n",
    "    ax.plot(x,func(n)(x,*popt))\n",
    "\n",
    "    for i in range(1,n+1):\n",
    "        peak = popt[3*i-3:3*i]\n",
    "        print(peak)\n",
    "        ax.plot(x,lorentzian(x,*peak))\n",
    "\n",
    "def fit_2d_peak_view(x, y):\n",
    "    guess = [2700, 10000, 20, 2700, 10000, 20]\n",
    "    bounds = ([2600, 100, 1, 2600, 100, 1],\n",
    "              [2800, 200000, 100, 2800, 200000, 100])\n",
    "    low, high = 2600, 2800\n",
    "    n = 2\n",
    "    x_new = x[x > low][x < high]\n",
    "    y_new = y.iloc[x_new.index[0]:x_new.index[-1]+1]\n",
    "    popt, pcov = curve_fit(func(n), x_new, y_new, guess, maxfev=10000, bounds=bounds)\n",
    "    print(popt)\n",
    "\n",
    "    fig = plt.figure(figsize=(12,12))\n",
    "    ax = plt.subplot(211)\n",
    "    ax.plot(x, y)\n",
    "    ax.plot(x,func(n)(x,*popt))\n",
    "\n",
    "    for i in range(1,n+1):\n",
    "        peak = popt[3*i-3:3*i]\n",
    "        print(peak)\n",
    "        ax.plot(x,lorentzian(x,*peak))"
   ]
  },
  {
   "cell_type": "code",
   "execution_count": null,
   "id": "4c7de414-1aa1-4902-9fdd-2713be1f2922",
   "metadata": {},
   "outputs": [],
   "source": [
    "sample = gl['spectra'][500][2]#[350:500]\n",
    "new_y = remove_base_2(sample)\n",
    "fit_2d_peak_view(sample.Wavenumber2, new_y)"
   ]
  },
  {
   "cell_type": "code",
   "execution_count": null,
   "id": "b53f5e85-1bcd-4ffc-81cf-727252836316",
   "metadata": {},
   "outputs": [],
   "source": [
    "sample = gl['spectra'][500][2]#[350:500]\n",
    "new_y = remove_base_1(sample)\n",
    "fit_g_peak_view(sample.Wavenumber1, new_y)"
   ]
  },
  {
   "cell_type": "code",
   "execution_count": null,
   "id": "2511b7cf-3376-49bf-afb5-9c37f545cbba",
   "metadata": {},
   "outputs": [],
   "source": [
    "sample = gl['spectra'][500][10]\n",
    "new_y = remove_base_2(sample)\n",
    "plt.plot(sample.Wavenumber2, new_y)\n",
    "peaks = fit_2d_peak_view(gl['spectra'][700][1].Wavenumber2, new_y)\n",
    "#plt.xlim([2600, 2800])"
   ]
  },
  {
   "cell_type": "code",
   "execution_count": null,
   "id": "8cc0f7ed-a76b-4e52-9848-857b4559c184",
   "metadata": {},
   "outputs": [],
   "source": []
  }
 ],
 "metadata": {
  "kernelspec": {
   "display_name": "Python 3 (ipykernel)",
   "language": "python",
   "name": "python3"
  },
  "language_info": {
   "codemirror_mode": {
    "name": "ipython",
    "version": 3
   },
   "file_extension": ".py",
   "mimetype": "text/x-python",
   "name": "python",
   "nbconvert_exporter": "python",
   "pygments_lexer": "ipython3",
   "version": "3.10.9"
  }
 },
 "nbformat": 4,
 "nbformat_minor": 5
}
