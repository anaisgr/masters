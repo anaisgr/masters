{
 "cells": [
  {
   "cell_type": "markdown",
   "metadata": {},
   "source": [
    "# Raman Analysis"
   ]
  },
  {
   "cell_type": "markdown",
   "metadata": {},
   "source": [
    "## Setting up Python"
   ]
  },
  {
   "cell_type": "markdown",
   "metadata": {},
   "source": [
    "### Importing necessary libraries"
   ]
  },
  {
   "cell_type": "code",
   "execution_count": 54,
   "metadata": {},
   "outputs": [],
   "source": [
    "import pandas as pd\n",
    "import matplotlib.pyplot as plt\n",
    "import pickle\n",
    "import sys\n",
    "from PIL import Image\n",
    "from scipy.signal import find_peaks, peak_widths\n",
    "from scipy.optimize import curve_fit\n",
    "import statistics\n",
    "from ipywidgets import *\n",
    "\n",
    "%matplotlib widget\n",
    "sys.path.append('Scripts')\n",
    "from peak_fitting import *"
   ]
  },
  {
   "cell_type": "markdown",
   "metadata": {},
   "source": [
    "### Importing the data"
   ]
  },
  {
   "cell_type": "code",
   "execution_count": 55,
   "metadata": {},
   "outputs": [],
   "source": [
    "def open_pickled_stats(name):\n",
    "    infile = open(f\"Data/pickled_for_stats/{name}_for_stats.pk\", 'rb')\n",
    "    data = pickle.load(infile)\n",
    "    infile.close()\n",
    "    return data\n",
    "hmds = open_pickled_stats('hmds')\n",
    "boot = open_pickled_stats('boot')\n",
    "gs = open_pickled_stats('gs')\n",
    "gl = open_pickled_stats('gl')\n",
    "a4_multi = open_pickled_stats('a4_multi')\n",
    "a4_double = open_pickled_stats('a4_double')\n",
    "a4_single = open_pickled_stats('a4_single')\n",
    "a6_multi = open_pickled_stats('a6_multi')\n",
    "a6_double = open_pickled_stats('a6_double')\n",
    "a6_single = open_pickled_stats('a6_single')\n",
    "sample_dict = {'hmds':hmds, 'boot':boot, 'gs':gs, 'gl':gl, 'a4_multi':a4_multi, \n",
    "               'a4_double':a4_double, 'a4_single':a4_single, 'a6_multi':a6_multi,\n",
    "               'a6_double':a6_double, 'a6_single':a6_single}"
   ]
  },
  {
   "cell_type": "markdown",
   "metadata": {},
   "source": [
    "## Organisation of the data\n",
    "\n",
    "The data for each type of sample is saved as a dictionary. The only important ones for the purpose of the analysis are 'data' and 'spectra'."
   ]
  },
  {
   "cell_type": "markdown",
   "metadata": {},
   "source": [
    "### The Raman spectra\n",
    "\n",
    "Inputs: sample -> 'spectra' -> temperature\n",
    "\n",
    "Outputs: list of spectra -> spectrum\n",
    "\n",
    "To get the list of the Raman spectra for the hmds sample at 500 °C: use hmds['spectra'][500]. As this is a very long output the next cell only allows you to see how many spectra exist for different sample-temperature combinations."
   ]
  },
  {
   "cell_type": "code",
   "execution_count": 59,
   "metadata": {
    "jupyter": {
     "source_hidden": true
    }
   },
   "outputs": [
    {
     "data": {
      "application/vnd.jupyter.widget-view+json": {
       "model_id": "e3846194f1ac4a6cb572571c359de120",
       "version_major": 2,
       "version_minor": 0
      },
      "text/plain": [
       "interactive(children=(Dropdown(description='name', options=('hmds', 'boot', 'gs', 'gl', 'a4_multi', 'a4_double…"
      ]
     },
     "metadata": {},
     "output_type": "display_data"
    },
    {
     "data": {
      "text/plain": [
       "<function __main__.show_number_spectra(name, temperature)>"
      ]
     },
     "execution_count": 59,
     "metadata": {},
     "output_type": "execute_result"
    }
   ],
   "source": [
    "def show_number_spectra(name, temperature):\n",
    "    try:\n",
    "        sample = sample_dict[name]\n",
    "        n_samples = len(sample['spectra'][temperature])\n",
    "        print(f'The sample {name} has {n_samples} Raman spectra taken at this temperature')\n",
    "    except:\n",
    "        print(f'There are no spectra available for {name} at {temperature}')\n",
    "interact(show_number_spectra, name=list(sample_dict.keys()), temperature=[400, 500, 600, 700])"
   ]
  },
  {
   "cell_type": "markdown",
   "metadata": {},
   "source": [
    "Now from these spectra you can select which one you want to plot by adding a number: hmds['spectra'][500][1].\n",
    "The spectra are saved as four columns pandas dataframe. This is because the Raman spectrometer wasn't set up to take a full Raman spectrum but instead two spectra centred around the G and 2D peaks.\n",
    "Wavenumber1 and Intensity1 contain the D and G peaks, and Wavenumber2 and Intensity2 the 2D peak."
   ]
  },
  {
   "cell_type": "code",
   "execution_count": 57,
   "metadata": {},
   "outputs": [
    {
     "data": {
      "text/html": [
       "<div>\n",
       "<style scoped>\n",
       "    .dataframe tbody tr th:only-of-type {\n",
       "        vertical-align: middle;\n",
       "    }\n",
       "\n",
       "    .dataframe tbody tr th {\n",
       "        vertical-align: top;\n",
       "    }\n",
       "\n",
       "    .dataframe thead th {\n",
       "        text-align: right;\n",
       "    }\n",
       "</style>\n",
       "<table border=\"1\" class=\"dataframe\">\n",
       "  <thead>\n",
       "    <tr style=\"text-align: right;\">\n",
       "      <th></th>\n",
       "      <th>Wavenumber1</th>\n",
       "      <th>Intensity1</th>\n",
       "      <th>Wavenumber2</th>\n",
       "      <th>Intensity2</th>\n",
       "    </tr>\n",
       "  </thead>\n",
       "  <tbody>\n",
       "    <tr>\n",
       "      <th>0</th>\n",
       "      <td>2035.689453</td>\n",
       "      <td>2346.869873</td>\n",
       "      <td>3140.073242</td>\n",
       "      <td>2562.264160</td>\n",
       "    </tr>\n",
       "    <tr>\n",
       "      <th>1</th>\n",
       "      <td>2034.679688</td>\n",
       "      <td>2416.259766</td>\n",
       "      <td>3139.244141</td>\n",
       "      <td>2468.816895</td>\n",
       "    </tr>\n",
       "    <tr>\n",
       "      <th>2</th>\n",
       "      <td>2033.671875</td>\n",
       "      <td>2448.045898</td>\n",
       "      <td>3138.414063</td>\n",
       "      <td>2465.372314</td>\n",
       "    </tr>\n",
       "    <tr>\n",
       "      <th>3</th>\n",
       "      <td>2032.662109</td>\n",
       "      <td>2360.907959</td>\n",
       "      <td>3137.584961</td>\n",
       "      <td>2495.075928</td>\n",
       "    </tr>\n",
       "    <tr>\n",
       "      <th>4</th>\n",
       "      <td>2031.652344</td>\n",
       "      <td>2397.645996</td>\n",
       "      <td>3136.754883</td>\n",
       "      <td>2455.473633</td>\n",
       "    </tr>\n",
       "    <tr>\n",
       "      <th>...</th>\n",
       "      <td>...</td>\n",
       "      <td>...</td>\n",
       "      <td>...</td>\n",
       "      <td>...</td>\n",
       "    </tr>\n",
       "    <tr>\n",
       "      <th>1016</th>\n",
       "      <td>908.365234</td>\n",
       "      <td>3684.288574</td>\n",
       "      <td>2214.541016</td>\n",
       "      <td>1887.888794</td>\n",
       "    </tr>\n",
       "    <tr>\n",
       "      <th>1017</th>\n",
       "      <td>907.140625</td>\n",
       "      <td>3724.251709</td>\n",
       "      <td>2213.537109</td>\n",
       "      <td>1847.620728</td>\n",
       "    </tr>\n",
       "    <tr>\n",
       "      <th>1018</th>\n",
       "      <td>905.916016</td>\n",
       "      <td>3631.581543</td>\n",
       "      <td>2212.533203</td>\n",
       "      <td>1837.244385</td>\n",
       "    </tr>\n",
       "    <tr>\n",
       "      <th>1019</th>\n",
       "      <td>904.689453</td>\n",
       "      <td>3687.854248</td>\n",
       "      <td>2211.529297</td>\n",
       "      <td>1829.361206</td>\n",
       "    </tr>\n",
       "    <tr>\n",
       "      <th>1020</th>\n",
       "      <td>903.462891</td>\n",
       "      <td>3613.586914</td>\n",
       "      <td>2210.523438</td>\n",
       "      <td>1744.341919</td>\n",
       "    </tr>\n",
       "  </tbody>\n",
       "</table>\n",
       "<p>1021 rows × 4 columns</p>\n",
       "</div>"
      ],
      "text/plain": [
       "      Wavenumber1   Intensity1  Wavenumber2   Intensity2\n",
       "0     2035.689453  2346.869873  3140.073242  2562.264160\n",
       "1     2034.679688  2416.259766  3139.244141  2468.816895\n",
       "2     2033.671875  2448.045898  3138.414063  2465.372314\n",
       "3     2032.662109  2360.907959  3137.584961  2495.075928\n",
       "4     2031.652344  2397.645996  3136.754883  2455.473633\n",
       "...           ...          ...          ...          ...\n",
       "1016   908.365234  3684.288574  2214.541016  1887.888794\n",
       "1017   907.140625  3724.251709  2213.537109  1847.620728\n",
       "1018   905.916016  3631.581543  2212.533203  1837.244385\n",
       "1019   904.689453  3687.854248  2211.529297  1829.361206\n",
       "1020   903.462891  3613.586914  2210.523438  1744.341919\n",
       "\n",
       "[1021 rows x 4 columns]"
      ]
     },
     "execution_count": 57,
     "metadata": {},
     "output_type": "execute_result"
    }
   ],
   "source": [
    "hmds['spectra'][500][1]"
   ]
  },
  {
   "cell_type": "markdown",
   "metadata": {},
   "source": [
    "To access the data in each column you have to use yet another pair of brackets or a dot."
   ]
  },
  {
   "cell_type": "code",
   "execution_count": 58,
   "metadata": {},
   "outputs": [
    {
     "data": {
      "application/vnd.jupyter.widget-view+json": {
       "model_id": "bd956d2cb81c492d9c8573a8583061b4",
       "version_major": 2,
       "version_minor": 0
      },
      "text/plain": [
       "Canvas(toolbar=Toolbar(toolitems=[('Home', 'Reset original view', 'home', 'home'), ('Back', 'Back to previous …"
      ]
     },
     "metadata": {},
     "output_type": "display_data"
    },
    {
     "data": {
      "text/plain": [
       "[<matplotlib.lines.Line2D at 0x7fa187d35588>]"
      ]
     },
     "execution_count": 58,
     "metadata": {},
     "output_type": "execute_result"
    }
   ],
   "source": [
    "x = hmds['spectra'][500][1]['Wavenumber1']\n",
    "y = hmds['spectra'][500][1].Intensity1\n",
    "plt.plot(x,y)"
   ]
  },
  {
   "cell_type": "markdown",
   "metadata": {},
   "source": [
    "## Functions for analysis"
   ]
  },
  {
   "cell_type": "markdown",
   "metadata": {},
   "source": [
    "### Getting an average spectrum\n",
    "Given a list of spectra, for instance hmds['spectra'][400], this returns an average"
   ]
  },
  {
   "cell_type": "code",
   "execution_count": 17,
   "metadata": {},
   "outputs": [],
   "source": [
    "def get_average_spectrum(spectra):\n",
    "    df = spectra[0]\n",
    "    for spectrum in spectra:\n",
    "        df = df.add(spectrum)\n",
    "    df = df.divide(len(spectra)+1)\n",
    "    return df"
   ]
  },
  {
   "cell_type": "code",
   "execution_count": 18,
   "metadata": {},
   "outputs": [
    {
     "data": {
      "text/html": [
       "<div>\n",
       "<style scoped>\n",
       "    .dataframe tbody tr th:only-of-type {\n",
       "        vertical-align: middle;\n",
       "    }\n",
       "\n",
       "    .dataframe tbody tr th {\n",
       "        vertical-align: top;\n",
       "    }\n",
       "\n",
       "    .dataframe thead th {\n",
       "        text-align: right;\n",
       "    }\n",
       "</style>\n",
       "<table border=\"1\" class=\"dataframe\">\n",
       "  <thead>\n",
       "    <tr style=\"text-align: right;\">\n",
       "      <th></th>\n",
       "      <th>Wavenumber1</th>\n",
       "      <th>Intensity1</th>\n",
       "      <th>Wavenumber2</th>\n",
       "      <th>Intensity2</th>\n",
       "    </tr>\n",
       "  </thead>\n",
       "  <tbody>\n",
       "    <tr>\n",
       "      <th>0</th>\n",
       "      <td>2035.658203</td>\n",
       "      <td>638.550323</td>\n",
       "      <td>3140.048828</td>\n",
       "      <td>396.562980</td>\n",
       "    </tr>\n",
       "    <tr>\n",
       "      <th>1</th>\n",
       "      <td>2034.650391</td>\n",
       "      <td>620.927538</td>\n",
       "      <td>3139.219727</td>\n",
       "      <td>396.228061</td>\n",
       "    </tr>\n",
       "    <tr>\n",
       "      <th>2</th>\n",
       "      <td>2033.640625</td>\n",
       "      <td>636.786130</td>\n",
       "      <td>3138.390625</td>\n",
       "      <td>398.503084</td>\n",
       "    </tr>\n",
       "    <tr>\n",
       "      <th>3</th>\n",
       "      <td>2032.630859</td>\n",
       "      <td>629.242054</td>\n",
       "      <td>3137.560547</td>\n",
       "      <td>390.732739</td>\n",
       "    </tr>\n",
       "    <tr>\n",
       "      <th>4</th>\n",
       "      <td>2031.623047</td>\n",
       "      <td>637.112376</td>\n",
       "      <td>3136.730469</td>\n",
       "      <td>395.685949</td>\n",
       "    </tr>\n",
       "    <tr>\n",
       "      <th>...</th>\n",
       "      <td>...</td>\n",
       "      <td>...</td>\n",
       "      <td>...</td>\n",
       "      <td>...</td>\n",
       "    </tr>\n",
       "    <tr>\n",
       "      <th>1016</th>\n",
       "      <td>908.330078</td>\n",
       "      <td>927.361098</td>\n",
       "      <td>2214.511719</td>\n",
       "      <td>440.560699</td>\n",
       "    </tr>\n",
       "    <tr>\n",
       "      <th>1017</th>\n",
       "      <td>907.103516</td>\n",
       "      <td>920.117994</td>\n",
       "      <td>2213.507813</td>\n",
       "      <td>426.074109</td>\n",
       "    </tr>\n",
       "    <tr>\n",
       "      <th>1018</th>\n",
       "      <td>905.878906</td>\n",
       "      <td>936.907077</td>\n",
       "      <td>2212.503906</td>\n",
       "      <td>418.232564</td>\n",
       "    </tr>\n",
       "    <tr>\n",
       "      <th>1019</th>\n",
       "      <td>904.654297</td>\n",
       "      <td>916.519708</td>\n",
       "      <td>2211.500000</td>\n",
       "      <td>443.856581</td>\n",
       "    </tr>\n",
       "    <tr>\n",
       "      <th>1020</th>\n",
       "      <td>903.427734</td>\n",
       "      <td>921.292386</td>\n",
       "      <td>2210.496094</td>\n",
       "      <td>443.202906</td>\n",
       "    </tr>\n",
       "  </tbody>\n",
       "</table>\n",
       "<p>1021 rows × 4 columns</p>\n",
       "</div>"
      ],
      "text/plain": [
       "      Wavenumber1  Intensity1  Wavenumber2  Intensity2\n",
       "0     2035.658203  638.550323  3140.048828  396.562980\n",
       "1     2034.650391  620.927538  3139.219727  396.228061\n",
       "2     2033.640625  636.786130  3138.390625  398.503084\n",
       "3     2032.630859  629.242054  3137.560547  390.732739\n",
       "4     2031.623047  637.112376  3136.730469  395.685949\n",
       "...           ...         ...          ...         ...\n",
       "1016   908.330078  927.361098  2214.511719  440.560699\n",
       "1017   907.103516  920.117994  2213.507813  426.074109\n",
       "1018   905.878906  936.907077  2212.503906  418.232564\n",
       "1019   904.654297  916.519708  2211.500000  443.856581\n",
       "1020   903.427734  921.292386  2210.496094  443.202906\n",
       "\n",
       "[1021 rows x 4 columns]"
      ]
     },
     "execution_count": 18,
     "metadata": {},
     "output_type": "execute_result"
    }
   ],
   "source": [
    "get_average_spectrum(hmds['spectra'][400])"
   ]
  },
  {
   "cell_type": "markdown",
   "metadata": {},
   "source": [
    "### Statistical analysis of peak data"
   ]
  },
  {
   "cell_type": "code",
   "execution_count": 19,
   "metadata": {},
   "outputs": [],
   "source": [
    "def get_data_stats(data):\n",
    "    spec_peaks = ['d_peak', 'g_peak', 'd2_peak']\n",
    "    all_peaks = {}\n",
    "    spec_peaks_mean = []\n",
    "    spec_peaks_dev = []\n",
    "    spec_peaks_min = []\n",
    "    spec_peaks_max = []\n",
    "    spec_ratios = {}\n",
    "    params = [\"pos\", \"width\", \"intensity\"]\n",
    "    for peak in spec_peaks:\n",
    "        peaks = [getattr(i, peak) for i in data]\n",
    "        all_peaks[peak] = {j: [peak[j] for peak in peaks] for j in params}\n",
    "        spec_peaks_mean.append({j: statistics.mean(all_peaks[peak][j]) for j in params})\n",
    "        spec_peaks_dev.append({j: statistics.pstdev(all_peaks[peak][j]) for j in params})\n",
    "        spec_peaks_min.append({j: min(all_peaks[peak][j]) for j in params})\n",
    "        spec_peaks_max.append({j: max(all_peaks[peak][j]) for j in params})\n",
    "    spec_mean = spec_data(*spec_peaks_mean)\n",
    "    spec_dev = spec_data(*spec_peaks_dev)\n",
    "    spec_min = spec_data(*spec_peaks_min)\n",
    "    spec_max = spec_data(*spec_peaks_max)\n",
    "    id_ig_s = [a/b for (a,b) in zip(all_peaks['d_peak']['intensity'], all_peaks['g_peak']['intensity'])]\n",
    "    i2d_ig_s = [a/b for (a,b) in zip(all_peaks['d2_peak']['intensity'], all_peaks['g_peak']['intensity'])]\n",
    "    spec_ratios['id_ig'] = {'mean': statistics.mean(id_ig_s), 'dev': statistics.pstdev(id_ig_s), \n",
    "                             'min': min(id_ig_s), 'max': max(id_ig_s)}\n",
    "    spec_ratios['i2d_ig'] = {'mean': statistics.mean(i2d_ig_s), 'dev': statistics.pstdev(i2d_ig_s), \n",
    "                             'min': min(i2d_ig_s), 'max': max(i2d_ig_s)}\n",
    "    return (spec_mean, spec_dev, spec_min, spec_max, spec_ratios)"
   ]
  },
  {
   "cell_type": "code",
   "execution_count": null,
   "metadata": {},
   "outputs": [],
   "source": []
  }
 ],
 "metadata": {
  "kernelspec": {
   "display_name": "Python 3",
   "language": "python",
   "name": "python3"
  },
  "language_info": {
   "codemirror_mode": {
    "name": "ipython",
    "version": 3
   },
   "file_extension": ".py",
   "mimetype": "text/x-python",
   "name": "python",
   "nbconvert_exporter": "python",
   "pygments_lexer": "ipython3",
   "version": "3.6.9"
  }
 },
 "nbformat": 4,
 "nbformat_minor": 4
}
